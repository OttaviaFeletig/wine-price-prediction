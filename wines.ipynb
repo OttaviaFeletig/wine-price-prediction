{
 "metadata": {
  "language_info": {
   "codemirror_mode": {
    "name": "ipython",
    "version": 3
   },
   "file_extension": ".py",
   "mimetype": "text/x-python",
   "name": "python",
   "nbconvert_exporter": "python",
   "pygments_lexer": "ipython3",
   "version": "3.8.3-final"
  },
  "orig_nbformat": 2,
  "kernelspec": {
   "name": "python3",
   "display_name": "Python 3"
  }
 },
 "nbformat": 4,
 "nbformat_minor": 2,
 "cells": [
  {
   "cell_type": "code",
   "execution_count": 2,
   "metadata": {},
   "outputs": [],
   "source": [
    "import pandas as pd"
   ]
  },
  {
   "cell_type": "code",
   "execution_count": 4,
   "metadata": {},
   "outputs": [],
   "source": [
    "# importing files\n",
    "red_wine = pd.read_csv(\n",
    "    'https://archive.ics.uci.edu/ml/machine-learning-databases/wine-quality/winequality-red.csv', sep=';')\n",
    "white_wine = pd.read_csv(\n",
    "    'https://archive.ics.uci.edu/ml/machine-learning-databases/wine-quality/winequality-white.csv', sep=';')"
   ]
  },
  {
   "cell_type": "code",
   "execution_count": 6,
   "metadata": {},
   "outputs": [],
   "source": [
    "# adding columns to dataframe\n",
    "red_wine['wine_type'] = 'red'\n",
    "red_wine['quality_label'] = red_wine['quality'].apply(lambda value: 'low'\n",
    "                                                      if value <= 5 else 'medium'\n",
    "                                                      if value <= 7 else 'high')\n",
    "red_wine['quality_label'] = pd.Categorical(red_wine['quality_label'],\n",
    "                                           categories=['low', 'medium', 'high'])\n",
    "red_wine[red_wine[\"quality\"] > 6]\n",
    "white_wine['wine_type'] = 'white'\n",
    "white_wine['quality_label'] = white_wine['quality'].apply(lambda value: 'low'\n",
    "                                                          if value <= 5 else 'medium'\n",
    "                                                          if value <= 7 else 'high')\n",
    "white_wine['quality_label'] = pd.Categorical(white_wine['quality_label'],\n",
    "                                             categories=['low', 'medium', 'high'])\n",
    "white_wine[white_wine[\"quality\"] > 6]\n",
    "\n",
    "# combine dataframes\n",
    "\n",
    "wines = pd.concat([red_wine, white_wine])\n",
    "# re-shuffle records just to randomize data points\n",
    "wines = wines.sample(frac=1, random_state=42).reset_index(drop=True)"
   ]
  },
  {
   "cell_type": "code",
   "execution_count": 8,
   "metadata": {},
   "outputs": [
    {
     "output_type": "execute_result",
     "data": {
      "text/plain": [
       "   fixed acidity  volatile acidity  citric acid  residual sugar  chlorides  \\\n",
       "0            7.0              0.17         0.74            12.8      0.045   \n",
       "1            7.7              0.64         0.21             2.2      0.077   \n",
       "2            6.8              0.39         0.34             7.4      0.020   \n",
       "3            6.3              0.28         0.47            11.2      0.040   \n",
       "4            7.4              0.35         0.20            13.9      0.054   \n",
       "5            7.2              0.53         0.14             2.1      0.064   \n",
       "6            7.5              0.27         0.31            17.7      0.051   \n",
       "7            6.8              0.11         0.27             8.6      0.044   \n",
       "8            9.0              0.44         0.49             2.4      0.078   \n",
       "9            7.1              0.23         0.30             2.6      0.034   \n",
       "\n",
       "   free sulfur dioxide  total sulfur dioxide  density    pH  sulphates  \\\n",
       "0                 24.0                 126.0  0.99420  3.26       0.38   \n",
       "1                 32.0                 133.0  0.99560  3.27       0.45   \n",
       "2                 38.0                 133.0  0.99212  3.18       0.44   \n",
       "3                 61.0                 183.0  0.99592  3.12       0.51   \n",
       "4                 63.0                 229.0  0.99888  3.11       0.50   \n",
       "5                 15.0                  29.0  0.99323  3.35       0.61   \n",
       "6                 33.0                 173.0  0.99900  3.09       0.64   \n",
       "7                 45.0                 104.0  0.99454  3.20       0.37   \n",
       "8                 26.0                 121.0  0.99780  3.23       0.58   \n",
       "9                 62.0                 148.0  0.99121  3.03       0.56   \n",
       "\n",
       "   alcohol  quality wine_type quality_label  \n",
       "0     12.2        8     white          high  \n",
       "1      9.9        5       red           low  \n",
       "2     12.0        7     white        medium  \n",
       "3      9.5        6     white        medium  \n",
       "4      8.9        6     white        medium  \n",
       "5     12.1        6       red        medium  \n",
       "6     10.2        5     white           low  \n",
       "7      9.9        6     white        medium  \n",
       "8      9.2        5       red           low  \n",
       "9     11.3        7     white        medium  "
      ],
      "text/html": "<div>\n<style scoped>\n    .dataframe tbody tr th:only-of-type {\n        vertical-align: middle;\n    }\n\n    .dataframe tbody tr th {\n        vertical-align: top;\n    }\n\n    .dataframe thead th {\n        text-align: right;\n    }\n</style>\n<table border=\"1\" class=\"dataframe\">\n  <thead>\n    <tr style=\"text-align: right;\">\n      <th></th>\n      <th>fixed acidity</th>\n      <th>volatile acidity</th>\n      <th>citric acid</th>\n      <th>residual sugar</th>\n      <th>chlorides</th>\n      <th>free sulfur dioxide</th>\n      <th>total sulfur dioxide</th>\n      <th>density</th>\n      <th>pH</th>\n      <th>sulphates</th>\n      <th>alcohol</th>\n      <th>quality</th>\n      <th>wine_type</th>\n      <th>quality_label</th>\n    </tr>\n  </thead>\n  <tbody>\n    <tr>\n      <th>0</th>\n      <td>7.0</td>\n      <td>0.17</td>\n      <td>0.74</td>\n      <td>12.8</td>\n      <td>0.045</td>\n      <td>24.0</td>\n      <td>126.0</td>\n      <td>0.99420</td>\n      <td>3.26</td>\n      <td>0.38</td>\n      <td>12.2</td>\n      <td>8</td>\n      <td>white</td>\n      <td>high</td>\n    </tr>\n    <tr>\n      <th>1</th>\n      <td>7.7</td>\n      <td>0.64</td>\n      <td>0.21</td>\n      <td>2.2</td>\n      <td>0.077</td>\n      <td>32.0</td>\n      <td>133.0</td>\n      <td>0.99560</td>\n      <td>3.27</td>\n      <td>0.45</td>\n      <td>9.9</td>\n      <td>5</td>\n      <td>red</td>\n      <td>low</td>\n    </tr>\n    <tr>\n      <th>2</th>\n      <td>6.8</td>\n      <td>0.39</td>\n      <td>0.34</td>\n      <td>7.4</td>\n      <td>0.020</td>\n      <td>38.0</td>\n      <td>133.0</td>\n      <td>0.99212</td>\n      <td>3.18</td>\n      <td>0.44</td>\n      <td>12.0</td>\n      <td>7</td>\n      <td>white</td>\n      <td>medium</td>\n    </tr>\n    <tr>\n      <th>3</th>\n      <td>6.3</td>\n      <td>0.28</td>\n      <td>0.47</td>\n      <td>11.2</td>\n      <td>0.040</td>\n      <td>61.0</td>\n      <td>183.0</td>\n      <td>0.99592</td>\n      <td>3.12</td>\n      <td>0.51</td>\n      <td>9.5</td>\n      <td>6</td>\n      <td>white</td>\n      <td>medium</td>\n    </tr>\n    <tr>\n      <th>4</th>\n      <td>7.4</td>\n      <td>0.35</td>\n      <td>0.20</td>\n      <td>13.9</td>\n      <td>0.054</td>\n      <td>63.0</td>\n      <td>229.0</td>\n      <td>0.99888</td>\n      <td>3.11</td>\n      <td>0.50</td>\n      <td>8.9</td>\n      <td>6</td>\n      <td>white</td>\n      <td>medium</td>\n    </tr>\n    <tr>\n      <th>5</th>\n      <td>7.2</td>\n      <td>0.53</td>\n      <td>0.14</td>\n      <td>2.1</td>\n      <td>0.064</td>\n      <td>15.0</td>\n      <td>29.0</td>\n      <td>0.99323</td>\n      <td>3.35</td>\n      <td>0.61</td>\n      <td>12.1</td>\n      <td>6</td>\n      <td>red</td>\n      <td>medium</td>\n    </tr>\n    <tr>\n      <th>6</th>\n      <td>7.5</td>\n      <td>0.27</td>\n      <td>0.31</td>\n      <td>17.7</td>\n      <td>0.051</td>\n      <td>33.0</td>\n      <td>173.0</td>\n      <td>0.99900</td>\n      <td>3.09</td>\n      <td>0.64</td>\n      <td>10.2</td>\n      <td>5</td>\n      <td>white</td>\n      <td>low</td>\n    </tr>\n    <tr>\n      <th>7</th>\n      <td>6.8</td>\n      <td>0.11</td>\n      <td>0.27</td>\n      <td>8.6</td>\n      <td>0.044</td>\n      <td>45.0</td>\n      <td>104.0</td>\n      <td>0.99454</td>\n      <td>3.20</td>\n      <td>0.37</td>\n      <td>9.9</td>\n      <td>6</td>\n      <td>white</td>\n      <td>medium</td>\n    </tr>\n    <tr>\n      <th>8</th>\n      <td>9.0</td>\n      <td>0.44</td>\n      <td>0.49</td>\n      <td>2.4</td>\n      <td>0.078</td>\n      <td>26.0</td>\n      <td>121.0</td>\n      <td>0.99780</td>\n      <td>3.23</td>\n      <td>0.58</td>\n      <td>9.2</td>\n      <td>5</td>\n      <td>red</td>\n      <td>low</td>\n    </tr>\n    <tr>\n      <th>9</th>\n      <td>7.1</td>\n      <td>0.23</td>\n      <td>0.30</td>\n      <td>2.6</td>\n      <td>0.034</td>\n      <td>62.0</td>\n      <td>148.0</td>\n      <td>0.99121</td>\n      <td>3.03</td>\n      <td>0.56</td>\n      <td>11.3</td>\n      <td>7</td>\n      <td>white</td>\n      <td>medium</td>\n    </tr>\n  </tbody>\n</table>\n</div>"
     },
     "metadata": {},
     "execution_count": 8
    }
   ],
   "source": [
    "wines.head(10)\n"
   ]
  },
  {
   "cell_type": "code",
   "execution_count": 9,
   "metadata": {},
   "outputs": [
    {
     "output_type": "execute_result",
     "data": {
      "text/plain": [
       "      fixed acidity  volatile acidity  citric acid  residual sugar  chlorides  \\\n",
       "6487            6.1              0.22         0.46            1.80      0.160   \n",
       "6488           10.3              0.50         0.42            2.00      0.069   \n",
       "6489            6.4              0.31         0.53            8.80      0.057   \n",
       "6490            5.9              0.26         0.24            2.40      0.046   \n",
       "6491            8.0              0.34         0.49            9.00      0.033   \n",
       "6492            7.6              0.32         0.58           16.75      0.050   \n",
       "6493            5.6              0.28         0.27            3.90      0.043   \n",
       "6494            6.4              0.37         0.20            5.60      0.117   \n",
       "6495            6.5              0.26         0.50            8.00      0.051   \n",
       "6496            7.2              0.62         0.06            2.70      0.077   \n",
       "\n",
       "      free sulfur dioxide  total sulfur dioxide  density    pH  sulphates  \\\n",
       "6487                 34.0                  74.0  0.98840  3.19       0.33   \n",
       "6488                 21.0                  51.0  0.99820  3.16       0.72   \n",
       "6489                 36.0                 221.0  0.99642  3.17       0.44   \n",
       "6490                 27.0                 132.0  0.99234  3.63       0.73   \n",
       "6491                 39.0                 180.0  0.99360  3.13       0.38   \n",
       "6492                 43.0                 163.0  0.99990  3.15       0.54   \n",
       "6493                 52.0                 158.0  0.99202  3.35       0.44   \n",
       "6494                 61.0                 183.0  0.99459  3.24       0.43   \n",
       "6495                 46.0                 197.0  0.99536  3.18       0.47   \n",
       "6496                 15.0                  85.0  0.99746  3.51       0.54   \n",
       "\n",
       "      alcohol  quality wine_type quality_label  \n",
       "6487     13.4        6     white        medium  \n",
       "6488     11.5        6       red        medium  \n",
       "6489      9.1        5     white           low  \n",
       "6490     11.3        5     white           low  \n",
       "6491     12.3        8     white          high  \n",
       "6492      9.2        5     white           low  \n",
       "6493     10.7        7     white        medium  \n",
       "6494      9.5        5     white           low  \n",
       "6495      9.5        5     white           low  \n",
       "6496      9.5        5       red           low  "
      ],
      "text/html": "<div>\n<style scoped>\n    .dataframe tbody tr th:only-of-type {\n        vertical-align: middle;\n    }\n\n    .dataframe tbody tr th {\n        vertical-align: top;\n    }\n\n    .dataframe thead th {\n        text-align: right;\n    }\n</style>\n<table border=\"1\" class=\"dataframe\">\n  <thead>\n    <tr style=\"text-align: right;\">\n      <th></th>\n      <th>fixed acidity</th>\n      <th>volatile acidity</th>\n      <th>citric acid</th>\n      <th>residual sugar</th>\n      <th>chlorides</th>\n      <th>free sulfur dioxide</th>\n      <th>total sulfur dioxide</th>\n      <th>density</th>\n      <th>pH</th>\n      <th>sulphates</th>\n      <th>alcohol</th>\n      <th>quality</th>\n      <th>wine_type</th>\n      <th>quality_label</th>\n    </tr>\n  </thead>\n  <tbody>\n    <tr>\n      <th>6487</th>\n      <td>6.1</td>\n      <td>0.22</td>\n      <td>0.46</td>\n      <td>1.80</td>\n      <td>0.160</td>\n      <td>34.0</td>\n      <td>74.0</td>\n      <td>0.98840</td>\n      <td>3.19</td>\n      <td>0.33</td>\n      <td>13.4</td>\n      <td>6</td>\n      <td>white</td>\n      <td>medium</td>\n    </tr>\n    <tr>\n      <th>6488</th>\n      <td>10.3</td>\n      <td>0.50</td>\n      <td>0.42</td>\n      <td>2.00</td>\n      <td>0.069</td>\n      <td>21.0</td>\n      <td>51.0</td>\n      <td>0.99820</td>\n      <td>3.16</td>\n      <td>0.72</td>\n      <td>11.5</td>\n      <td>6</td>\n      <td>red</td>\n      <td>medium</td>\n    </tr>\n    <tr>\n      <th>6489</th>\n      <td>6.4</td>\n      <td>0.31</td>\n      <td>0.53</td>\n      <td>8.80</td>\n      <td>0.057</td>\n      <td>36.0</td>\n      <td>221.0</td>\n      <td>0.99642</td>\n      <td>3.17</td>\n      <td>0.44</td>\n      <td>9.1</td>\n      <td>5</td>\n      <td>white</td>\n      <td>low</td>\n    </tr>\n    <tr>\n      <th>6490</th>\n      <td>5.9</td>\n      <td>0.26</td>\n      <td>0.24</td>\n      <td>2.40</td>\n      <td>0.046</td>\n      <td>27.0</td>\n      <td>132.0</td>\n      <td>0.99234</td>\n      <td>3.63</td>\n      <td>0.73</td>\n      <td>11.3</td>\n      <td>5</td>\n      <td>white</td>\n      <td>low</td>\n    </tr>\n    <tr>\n      <th>6491</th>\n      <td>8.0</td>\n      <td>0.34</td>\n      <td>0.49</td>\n      <td>9.00</td>\n      <td>0.033</td>\n      <td>39.0</td>\n      <td>180.0</td>\n      <td>0.99360</td>\n      <td>3.13</td>\n      <td>0.38</td>\n      <td>12.3</td>\n      <td>8</td>\n      <td>white</td>\n      <td>high</td>\n    </tr>\n    <tr>\n      <th>6492</th>\n      <td>7.6</td>\n      <td>0.32</td>\n      <td>0.58</td>\n      <td>16.75</td>\n      <td>0.050</td>\n      <td>43.0</td>\n      <td>163.0</td>\n      <td>0.99990</td>\n      <td>3.15</td>\n      <td>0.54</td>\n      <td>9.2</td>\n      <td>5</td>\n      <td>white</td>\n      <td>low</td>\n    </tr>\n    <tr>\n      <th>6493</th>\n      <td>5.6</td>\n      <td>0.28</td>\n      <td>0.27</td>\n      <td>3.90</td>\n      <td>0.043</td>\n      <td>52.0</td>\n      <td>158.0</td>\n      <td>0.99202</td>\n      <td>3.35</td>\n      <td>0.44</td>\n      <td>10.7</td>\n      <td>7</td>\n      <td>white</td>\n      <td>medium</td>\n    </tr>\n    <tr>\n      <th>6494</th>\n      <td>6.4</td>\n      <td>0.37</td>\n      <td>0.20</td>\n      <td>5.60</td>\n      <td>0.117</td>\n      <td>61.0</td>\n      <td>183.0</td>\n      <td>0.99459</td>\n      <td>3.24</td>\n      <td>0.43</td>\n      <td>9.5</td>\n      <td>5</td>\n      <td>white</td>\n      <td>low</td>\n    </tr>\n    <tr>\n      <th>6495</th>\n      <td>6.5</td>\n      <td>0.26</td>\n      <td>0.50</td>\n      <td>8.00</td>\n      <td>0.051</td>\n      <td>46.0</td>\n      <td>197.0</td>\n      <td>0.99536</td>\n      <td>3.18</td>\n      <td>0.47</td>\n      <td>9.5</td>\n      <td>5</td>\n      <td>white</td>\n      <td>low</td>\n    </tr>\n    <tr>\n      <th>6496</th>\n      <td>7.2</td>\n      <td>0.62</td>\n      <td>0.06</td>\n      <td>2.70</td>\n      <td>0.077</td>\n      <td>15.0</td>\n      <td>85.0</td>\n      <td>0.99746</td>\n      <td>3.51</td>\n      <td>0.54</td>\n      <td>9.5</td>\n      <td>5</td>\n      <td>red</td>\n      <td>low</td>\n    </tr>\n  </tbody>\n</table>\n</div>"
     },
     "metadata": {},
     "execution_count": 9
    }
   ],
   "source": [
    "wines.tail(10)\n"
   ]
  },
  {
   "cell_type": "code",
   "execution_count": 10,
   "metadata": {},
   "outputs": [
    {
     "output_type": "stream",
     "name": "stdout",
     "text": [
      "<class 'pandas.core.frame.DataFrame'>\nRangeIndex: 6497 entries, 0 to 6496\nData columns (total 14 columns):\n #   Column                Non-Null Count  Dtype   \n---  ------                --------------  -----   \n 0   fixed acidity         6497 non-null   float64 \n 1   volatile acidity      6497 non-null   float64 \n 2   citric acid           6497 non-null   float64 \n 3   residual sugar        6497 non-null   float64 \n 4   chlorides             6497 non-null   float64 \n 5   free sulfur dioxide   6497 non-null   float64 \n 6   total sulfur dioxide  6497 non-null   float64 \n 7   density               6497 non-null   float64 \n 8   pH                    6497 non-null   float64 \n 9   sulphates             6497 non-null   float64 \n 10  alcohol               6497 non-null   float64 \n 11  quality               6497 non-null   int64   \n 12  wine_type             6497 non-null   object  \n 13  quality_label         6497 non-null   category\ndtypes: category(1), float64(11), int64(1), object(1)\nmemory usage: 666.4+ KB\n"
     ]
    }
   ],
   "source": [
    "wines.info()\n"
   ]
  },
  {
   "cell_type": "code",
   "execution_count": 11,
   "metadata": {},
   "outputs": [
    {
     "output_type": "execute_result",
     "data": {
      "text/plain": [
       "(6497, 14)"
      ]
     },
     "metadata": {},
     "execution_count": 11
    }
   ],
   "source": [
    "wines.shape"
   ]
  },
  {
   "cell_type": "code",
   "execution_count": 23,
   "metadata": {},
   "outputs": [
    {
     "output_type": "execute_result",
     "data": {
      "text/plain": [
       "False"
      ]
     },
     "metadata": {},
     "execution_count": 23
    }
   ],
   "source": [
    "wines.isna().any().any()"
   ]
  },
  {
   "cell_type": "code",
   "execution_count": 24,
   "metadata": {},
   "outputs": [
    {
     "output_type": "execute_result",
     "data": {
      "text/plain": [
       "True"
      ]
     },
     "metadata": {},
     "execution_count": 24
    }
   ],
   "source": [
    "wines.notna().any().any()"
   ]
  },
  {
   "cell_type": "code",
   "execution_count": 25,
   "metadata": {},
   "outputs": [
    {
     "output_type": "execute_result",
     "data": {
      "text/plain": [
       "False"
      ]
     },
     "metadata": {},
     "execution_count": 25
    }
   ],
   "source": [
    "wines.isnull().any().any()"
   ]
  },
  {
   "cell_type": "code",
   "execution_count": 28,
   "metadata": {},
   "outputs": [
    {
     "output_type": "execute_result",
     "data": {
      "text/plain": [
       "fixed acidity           1599\n",
       "volatile acidity        1599\n",
       "citric acid             1599\n",
       "residual sugar          1599\n",
       "chlorides               1599\n",
       "free sulfur dioxide     1599\n",
       "total sulfur dioxide    1599\n",
       "density                 1599\n",
       "pH                      1599\n",
       "sulphates               1599\n",
       "alcohol                 1599\n",
       "quality                 1599\n",
       "wine_type               1599\n",
       "quality_label           1599\n",
       "dtype: int64"
      ]
     },
     "metadata": {},
     "execution_count": 28
    }
   ],
   "source": [
    "red_wine.count()"
   ]
  },
  {
   "cell_type": "code",
   "execution_count": 29,
   "metadata": {},
   "outputs": [
    {
     "output_type": "execute_result",
     "data": {
      "text/plain": [
       "fixed acidity            8.319637\n",
       "volatile acidity         0.527821\n",
       "citric acid              0.270976\n",
       "residual sugar           2.538806\n",
       "chlorides                0.087467\n",
       "free sulfur dioxide     15.874922\n",
       "total sulfur dioxide    46.467792\n",
       "density                  0.996747\n",
       "pH                       3.311113\n",
       "sulphates                0.658149\n",
       "alcohol                 10.422983\n",
       "quality                  5.636023\n",
       "dtype: float64"
      ]
     },
     "metadata": {},
     "execution_count": 29
    }
   ],
   "source": [
    "red_wine.mean()"
   ]
  },
  {
   "cell_type": "code",
   "execution_count": 30,
   "metadata": {},
   "outputs": [
    {
     "output_type": "execute_result",
     "data": {
      "text/plain": [
       "fixed acidity            1.741096\n",
       "volatile acidity         0.179060\n",
       "citric acid              0.194801\n",
       "residual sugar           1.409928\n",
       "chlorides                0.047065\n",
       "free sulfur dioxide     10.460157\n",
       "total sulfur dioxide    32.895324\n",
       "density                  0.001887\n",
       "pH                       0.154386\n",
       "sulphates                0.169507\n",
       "alcohol                  1.065668\n",
       "quality                  0.807569\n",
       "dtype: float64"
      ]
     },
     "metadata": {},
     "execution_count": 30
    }
   ],
   "source": [
    "red_wine.std()"
   ]
  },
  {
   "cell_type": "code",
   "execution_count": 31,
   "metadata": {},
   "outputs": [
    {
     "output_type": "execute_result",
     "data": {
      "text/plain": [
       "fixed acidity               4.6\n",
       "volatile acidity           0.12\n",
       "citric acid                   0\n",
       "residual sugar              0.9\n",
       "chlorides                 0.012\n",
       "free sulfur dioxide           1\n",
       "total sulfur dioxide          6\n",
       "density                 0.99007\n",
       "pH                         2.74\n",
       "sulphates                  0.33\n",
       "alcohol                     8.4\n",
       "quality                       3\n",
       "wine_type                   red\n",
       "quality_label              high\n",
       "dtype: object"
      ]
     },
     "metadata": {},
     "execution_count": 31
    }
   ],
   "source": [
    "red_wine.min()"
   ]
  },
  {
   "cell_type": "code",
   "execution_count": 33,
   "metadata": {},
   "outputs": [
    {
     "output_type": "execute_result",
     "data": {
      "text/plain": [
       "       fixed acidity  volatile acidity  citric acid  residual sugar  \\\n",
       "count    1599.000000       1599.000000  1599.000000     1599.000000   \n",
       "mean        8.319637          0.527821     0.270976        2.538806   \n",
       "std         1.741096          0.179060     0.194801        1.409928   \n",
       "min         4.600000          0.120000     0.000000        0.900000   \n",
       "25%         7.100000          0.390000     0.090000        1.900000   \n",
       "50%         7.900000          0.520000     0.260000        2.200000   \n",
       "75%         9.200000          0.640000     0.420000        2.600000   \n",
       "max        15.900000          1.580000     1.000000       15.500000   \n",
       "\n",
       "         chlorides  free sulfur dioxide  total sulfur dioxide      density  \\\n",
       "count  1599.000000          1599.000000           1599.000000  1599.000000   \n",
       "mean      0.087467            15.874922             46.467792     0.996747   \n",
       "std       0.047065            10.460157             32.895324     0.001887   \n",
       "min       0.012000             1.000000              6.000000     0.990070   \n",
       "25%       0.070000             7.000000             22.000000     0.995600   \n",
       "50%       0.079000            14.000000             38.000000     0.996750   \n",
       "75%       0.090000            21.000000             62.000000     0.997835   \n",
       "max       0.611000            72.000000            289.000000     1.003690   \n",
       "\n",
       "                pH    sulphates      alcohol      quality  \n",
       "count  1599.000000  1599.000000  1599.000000  1599.000000  \n",
       "mean      3.311113     0.658149    10.422983     5.636023  \n",
       "std       0.154386     0.169507     1.065668     0.807569  \n",
       "min       2.740000     0.330000     8.400000     3.000000  \n",
       "25%       3.210000     0.550000     9.500000     5.000000  \n",
       "50%       3.310000     0.620000    10.200000     6.000000  \n",
       "75%       3.400000     0.730000    11.100000     6.000000  \n",
       "max       4.010000     2.000000    14.900000     8.000000  "
      ],
      "text/html": "<div>\n<style scoped>\n    .dataframe tbody tr th:only-of-type {\n        vertical-align: middle;\n    }\n\n    .dataframe tbody tr th {\n        vertical-align: top;\n    }\n\n    .dataframe thead th {\n        text-align: right;\n    }\n</style>\n<table border=\"1\" class=\"dataframe\">\n  <thead>\n    <tr style=\"text-align: right;\">\n      <th></th>\n      <th>fixed acidity</th>\n      <th>volatile acidity</th>\n      <th>citric acid</th>\n      <th>residual sugar</th>\n      <th>chlorides</th>\n      <th>free sulfur dioxide</th>\n      <th>total sulfur dioxide</th>\n      <th>density</th>\n      <th>pH</th>\n      <th>sulphates</th>\n      <th>alcohol</th>\n      <th>quality</th>\n    </tr>\n  </thead>\n  <tbody>\n    <tr>\n      <th>count</th>\n      <td>1599.000000</td>\n      <td>1599.000000</td>\n      <td>1599.000000</td>\n      <td>1599.000000</td>\n      <td>1599.000000</td>\n      <td>1599.000000</td>\n      <td>1599.000000</td>\n      <td>1599.000000</td>\n      <td>1599.000000</td>\n      <td>1599.000000</td>\n      <td>1599.000000</td>\n      <td>1599.000000</td>\n    </tr>\n    <tr>\n      <th>mean</th>\n      <td>8.319637</td>\n      <td>0.527821</td>\n      <td>0.270976</td>\n      <td>2.538806</td>\n      <td>0.087467</td>\n      <td>15.874922</td>\n      <td>46.467792</td>\n      <td>0.996747</td>\n      <td>3.311113</td>\n      <td>0.658149</td>\n      <td>10.422983</td>\n      <td>5.636023</td>\n    </tr>\n    <tr>\n      <th>std</th>\n      <td>1.741096</td>\n      <td>0.179060</td>\n      <td>0.194801</td>\n      <td>1.409928</td>\n      <td>0.047065</td>\n      <td>10.460157</td>\n      <td>32.895324</td>\n      <td>0.001887</td>\n      <td>0.154386</td>\n      <td>0.169507</td>\n      <td>1.065668</td>\n      <td>0.807569</td>\n    </tr>\n    <tr>\n      <th>min</th>\n      <td>4.600000</td>\n      <td>0.120000</td>\n      <td>0.000000</td>\n      <td>0.900000</td>\n      <td>0.012000</td>\n      <td>1.000000</td>\n      <td>6.000000</td>\n      <td>0.990070</td>\n      <td>2.740000</td>\n      <td>0.330000</td>\n      <td>8.400000</td>\n      <td>3.000000</td>\n    </tr>\n    <tr>\n      <th>25%</th>\n      <td>7.100000</td>\n      <td>0.390000</td>\n      <td>0.090000</td>\n      <td>1.900000</td>\n      <td>0.070000</td>\n      <td>7.000000</td>\n      <td>22.000000</td>\n      <td>0.995600</td>\n      <td>3.210000</td>\n      <td>0.550000</td>\n      <td>9.500000</td>\n      <td>5.000000</td>\n    </tr>\n    <tr>\n      <th>50%</th>\n      <td>7.900000</td>\n      <td>0.520000</td>\n      <td>0.260000</td>\n      <td>2.200000</td>\n      <td>0.079000</td>\n      <td>14.000000</td>\n      <td>38.000000</td>\n      <td>0.996750</td>\n      <td>3.310000</td>\n      <td>0.620000</td>\n      <td>10.200000</td>\n      <td>6.000000</td>\n    </tr>\n    <tr>\n      <th>75%</th>\n      <td>9.200000</td>\n      <td>0.640000</td>\n      <td>0.420000</td>\n      <td>2.600000</td>\n      <td>0.090000</td>\n      <td>21.000000</td>\n      <td>62.000000</td>\n      <td>0.997835</td>\n      <td>3.400000</td>\n      <td>0.730000</td>\n      <td>11.100000</td>\n      <td>6.000000</td>\n    </tr>\n    <tr>\n      <th>max</th>\n      <td>15.900000</td>\n      <td>1.580000</td>\n      <td>1.000000</td>\n      <td>15.500000</td>\n      <td>0.611000</td>\n      <td>72.000000</td>\n      <td>289.000000</td>\n      <td>1.003690</td>\n      <td>4.010000</td>\n      <td>2.000000</td>\n      <td>14.900000</td>\n      <td>8.000000</td>\n    </tr>\n  </tbody>\n</table>\n</div>"
     },
     "metadata": {},
     "execution_count": 33
    }
   ],
   "source": [
    "red_wine.describe()"
   ]
  },
  {
   "cell_type": "code",
   "execution_count": null,
   "metadata": {},
   "outputs": [],
   "source": [
    "white_wine.describe()"
   ]
  }
 ]
}