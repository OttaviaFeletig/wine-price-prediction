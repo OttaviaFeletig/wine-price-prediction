{
 "metadata": {
  "language_info": {
   "codemirror_mode": {
    "name": "ipython",
    "version": 3
   },
   "file_extension": ".py",
   "mimetype": "text/x-python",
   "name": "python",
   "nbconvert_exporter": "python",
   "pygments_lexer": "ipython3",
   "version": "3.8.3-final"
  },
  "orig_nbformat": 2,
  "kernelspec": {
   "name": "python3",
   "display_name": "Python 3"
  }
 },
 "nbformat": 4,
 "nbformat_minor": 2,
 "cells": [
  {
   "cell_type": "code",
   "execution_count": 33,
   "metadata": {},
   "outputs": [],
   "source": [
    "import pandas as pd\n",
    "import numpy as np\n",
    "import matplotlib.pyplot as plt\n",
    "import matplotlib.legend_handler as HandlerLine2D\n",
    "from sklearn.model_selection import train_test_split\n",
    "from collections import Counter\n",
    "from sklearn.preprocessing import StandardScaler\n",
    "from sklearn.preprocessing import LabelEncoder\n",
    "from sklearn.preprocessing import LabelBinarizer\n",
    "from sklearn.linear_model import LogisticRegression\n",
    "from sklearn.linear_model import LinearRegression\n",
    "from sklearn.neighbors import KNeighborsClassifier\n",
    "from sklearn.ensemble import RandomForestClassifier\n",
    "from sklearn.pipeline import Pipeline\n",
    "from sklearn.multiclass import OneVsRestClassifier\n",
    "from sklearn.tree import DecisionTreeClassifier\n",
    "from sklearn.ensemble import RandomForestClassifier\n",
    "from sklearn.ensemble import RandomForestRegressor\n",
    "from sklearn.metrics import classification_report\n",
    "from sklearn.metrics import accuracy_score\n",
    "from sklearn.metrics import precision_recall_curve\n",
    "from sklearn.metrics import plot_precision_recall_curve\n",
    "from sklearn.metrics import cohen_kappa_score\n",
    "from sklearn.metrics import confusion_matrix\n",
    "from sklearn.metrics import ConfusionMatrixDisplay\n",
    "from sklearn import svm, datasets\n",
    "from sklearn import preprocessing\n",
    "from sklearn import model_selection\n",
    "from sklearn.metrics import roc_auc_score\n",
    "from sklearn.metrics import roc_curve\n",
    "import import_ipynb\n",
    "from wines import *\n",
    "import scipy.sparse as sparse\n",
    "from sklearn import tree"
   ]
  },
  {
   "cell_type": "code",
   "execution_count": 3,
   "metadata": {},
   "outputs": [
    {
     "output_type": "execute_result",
     "data": {
      "text/plain": [
       "      fixed acidity  volatile acidity  citric acid  residual sugar  chlorides  \\\n",
       "1361            9.4             0.240         0.29             8.5      0.037   \n",
       "191             6.8             0.815         0.00             1.2      0.267   \n",
       "871             6.9             0.390         0.40             4.6      0.022   \n",
       "1505            7.9             0.640         0.46            10.6      0.244   \n",
       "251             9.1             0.590         0.38             1.6      0.066   \n",
       "...             ...               ...          ...             ...        ...   \n",
       "1061            7.1             0.260         0.49             2.2      0.032   \n",
       "3655            7.4             0.240         0.36             2.0      0.031   \n",
       "4351            6.9             0.360         0.34             4.2      0.018   \n",
       "2768            9.1             0.270         0.45            10.6      0.035   \n",
       "5042            6.6             0.360         0.29             1.6      0.021   \n",
       "\n",
       "      free sulfur dioxide  total sulfur dioxide  density    pH  sulphates  \\\n",
       "1361                124.0                 208.0  0.99395  2.90       0.38   \n",
       "191                  16.0                  29.0  0.99471  3.32       0.51   \n",
       "871                   5.0                  19.0  0.99150  3.31       0.37   \n",
       "1505                 33.0                 227.0  0.99830  2.87       0.74   \n",
       "251                  34.0                 182.0  0.99680  3.23       0.38   \n",
       "...                   ...                   ...      ...   ...        ...   \n",
       "1061                 31.0                 113.0  0.99030  3.37       0.42   \n",
       "3655                 27.0                 139.0  0.99055  3.28       0.48   \n",
       "4351                 57.0                 119.0  0.98980  3.28       0.36   \n",
       "2768                 28.0                 124.0  0.99700  3.20       0.46   \n",
       "5042                 24.0                  85.0  0.98965  3.41       0.61   \n",
       "\n",
       "      alcohol  quality wine_type quality_label  \n",
       "1361     11.0        3     white           low  \n",
       "191       9.8        3       red           low  \n",
       "871      12.6        3     white           low  \n",
       "1505      9.1        3     white           low  \n",
       "251       8.5        3     white           low  \n",
       "...       ...      ...       ...           ...  \n",
       "1061     12.9        9     white          high  \n",
       "3655     12.5        9     white          high  \n",
       "4351     12.7        9     white          high  \n",
       "2768     10.4        9     white          high  \n",
       "5042     12.4        9     white          high  \n",
       "\n",
       "[6497 rows x 14 columns]"
      ],
      "text/html": "<div>\n<style scoped>\n    .dataframe tbody tr th:only-of-type {\n        vertical-align: middle;\n    }\n\n    .dataframe tbody tr th {\n        vertical-align: top;\n    }\n\n    .dataframe thead th {\n        text-align: right;\n    }\n</style>\n<table border=\"1\" class=\"dataframe\">\n  <thead>\n    <tr style=\"text-align: right;\">\n      <th></th>\n      <th>fixed acidity</th>\n      <th>volatile acidity</th>\n      <th>citric acid</th>\n      <th>residual sugar</th>\n      <th>chlorides</th>\n      <th>free sulfur dioxide</th>\n      <th>total sulfur dioxide</th>\n      <th>density</th>\n      <th>pH</th>\n      <th>sulphates</th>\n      <th>alcohol</th>\n      <th>quality</th>\n      <th>wine_type</th>\n      <th>quality_label</th>\n    </tr>\n  </thead>\n  <tbody>\n    <tr>\n      <th>1361</th>\n      <td>9.4</td>\n      <td>0.240</td>\n      <td>0.29</td>\n      <td>8.5</td>\n      <td>0.037</td>\n      <td>124.0</td>\n      <td>208.0</td>\n      <td>0.99395</td>\n      <td>2.90</td>\n      <td>0.38</td>\n      <td>11.0</td>\n      <td>3</td>\n      <td>white</td>\n      <td>low</td>\n    </tr>\n    <tr>\n      <th>191</th>\n      <td>6.8</td>\n      <td>0.815</td>\n      <td>0.00</td>\n      <td>1.2</td>\n      <td>0.267</td>\n      <td>16.0</td>\n      <td>29.0</td>\n      <td>0.99471</td>\n      <td>3.32</td>\n      <td>0.51</td>\n      <td>9.8</td>\n      <td>3</td>\n      <td>red</td>\n      <td>low</td>\n    </tr>\n    <tr>\n      <th>871</th>\n      <td>6.9</td>\n      <td>0.390</td>\n      <td>0.40</td>\n      <td>4.6</td>\n      <td>0.022</td>\n      <td>5.0</td>\n      <td>19.0</td>\n      <td>0.99150</td>\n      <td>3.31</td>\n      <td>0.37</td>\n      <td>12.6</td>\n      <td>3</td>\n      <td>white</td>\n      <td>low</td>\n    </tr>\n    <tr>\n      <th>1505</th>\n      <td>7.9</td>\n      <td>0.640</td>\n      <td>0.46</td>\n      <td>10.6</td>\n      <td>0.244</td>\n      <td>33.0</td>\n      <td>227.0</td>\n      <td>0.99830</td>\n      <td>2.87</td>\n      <td>0.74</td>\n      <td>9.1</td>\n      <td>3</td>\n      <td>white</td>\n      <td>low</td>\n    </tr>\n    <tr>\n      <th>251</th>\n      <td>9.1</td>\n      <td>0.590</td>\n      <td>0.38</td>\n      <td>1.6</td>\n      <td>0.066</td>\n      <td>34.0</td>\n      <td>182.0</td>\n      <td>0.99680</td>\n      <td>3.23</td>\n      <td>0.38</td>\n      <td>8.5</td>\n      <td>3</td>\n      <td>white</td>\n      <td>low</td>\n    </tr>\n    <tr>\n      <th>...</th>\n      <td>...</td>\n      <td>...</td>\n      <td>...</td>\n      <td>...</td>\n      <td>...</td>\n      <td>...</td>\n      <td>...</td>\n      <td>...</td>\n      <td>...</td>\n      <td>...</td>\n      <td>...</td>\n      <td>...</td>\n      <td>...</td>\n      <td>...</td>\n    </tr>\n    <tr>\n      <th>1061</th>\n      <td>7.1</td>\n      <td>0.260</td>\n      <td>0.49</td>\n      <td>2.2</td>\n      <td>0.032</td>\n      <td>31.0</td>\n      <td>113.0</td>\n      <td>0.99030</td>\n      <td>3.37</td>\n      <td>0.42</td>\n      <td>12.9</td>\n      <td>9</td>\n      <td>white</td>\n      <td>high</td>\n    </tr>\n    <tr>\n      <th>3655</th>\n      <td>7.4</td>\n      <td>0.240</td>\n      <td>0.36</td>\n      <td>2.0</td>\n      <td>0.031</td>\n      <td>27.0</td>\n      <td>139.0</td>\n      <td>0.99055</td>\n      <td>3.28</td>\n      <td>0.48</td>\n      <td>12.5</td>\n      <td>9</td>\n      <td>white</td>\n      <td>high</td>\n    </tr>\n    <tr>\n      <th>4351</th>\n      <td>6.9</td>\n      <td>0.360</td>\n      <td>0.34</td>\n      <td>4.2</td>\n      <td>0.018</td>\n      <td>57.0</td>\n      <td>119.0</td>\n      <td>0.98980</td>\n      <td>3.28</td>\n      <td>0.36</td>\n      <td>12.7</td>\n      <td>9</td>\n      <td>white</td>\n      <td>high</td>\n    </tr>\n    <tr>\n      <th>2768</th>\n      <td>9.1</td>\n      <td>0.270</td>\n      <td>0.45</td>\n      <td>10.6</td>\n      <td>0.035</td>\n      <td>28.0</td>\n      <td>124.0</td>\n      <td>0.99700</td>\n      <td>3.20</td>\n      <td>0.46</td>\n      <td>10.4</td>\n      <td>9</td>\n      <td>white</td>\n      <td>high</td>\n    </tr>\n    <tr>\n      <th>5042</th>\n      <td>6.6</td>\n      <td>0.360</td>\n      <td>0.29</td>\n      <td>1.6</td>\n      <td>0.021</td>\n      <td>24.0</td>\n      <td>85.0</td>\n      <td>0.98965</td>\n      <td>3.41</td>\n      <td>0.61</td>\n      <td>12.4</td>\n      <td>9</td>\n      <td>white</td>\n      <td>high</td>\n    </tr>\n  </tbody>\n</table>\n<p>6497 rows × 14 columns</p>\n</div>"
     },
     "metadata": {},
     "execution_count": 3
    }
   ],
   "source": [
    "wines"
   ]
  },
  {
   "cell_type": "code",
   "execution_count": 5,
   "metadata": {},
   "outputs": [],
   "source": [
    "wine_price_all = pd.read_csv('./wine_sales_data.csv')\n",
    "wine_price_all = wine_price_all[(wine_price_all[\"country\"] == \"Portugal\") & (wine_price_all[\"province\"] == \"Vinho Verde\")]\n",
    "wine_price_all\n",
    "white_wine_price = wine_price_all[(wine_price_all[\"variety\"] == \"Portuguese White\")]\n",
    "red_wine_price = wine_price_all[wine_price_all[\"variety\"] == \"Rosé\"]\n",
    "white_wine_price.describe()\n",
    "red_wine_price.describe()\n",
    "# wine_price = pd.concat([white_wine_price, red_wine_price], axis= 1, keys=['White Wine Prices', 'Red Wine Prices'])\n",
    "# wine_price\n",
    "white_wine_price_no = white_wine_price[(white_wine_price[\"price\"] >= white_wine_price.describe()[\"price\"][\"25%\"]) & (white_wine_price[\"price\"] <= white_wine_price.describe()[\"price\"][\"75%\"])]\n",
    "white_wine_price_no = white_wine_price_no.sort_values(\"points\")\n",
    "\n",
    "red_wine_price_no = red_wine_price[(red_wine_price[\"price\"] >= red_wine_price.describe()[\"price\"][\"25%\"]) & (red_wine_price[\"price\"] <= red_wine_price.describe()[\"price\"][\"75%\"])]\n",
    "red_wine_price_no = red_wine_price_no.sort_values(\"points\")\n",
    "white_wine_points = np.array(white_wine_price_no[\"points\"])\n",
    "white_wine_price_no[\"rating\"] = pd.cut(white_wine_points,3, labels=[\"low\", \"medium\", \"high\"])\n",
    "white_wine_lq_mean_price = float(\"{:.1f}\".format(white_wine_price_no[white_wine_price_no[\"rating\"] == \"low\"][\"price\"].mean()))\n",
    "# wine_lq_median_price = wine_price_no[wine_price_no[\"rating\"] == \"low\"][\"price\"].median()\n",
    "white_wine_lq_min_price = float(\"{:.1f}\".format(white_wine_price_no[white_wine_price_no[\"rating\"] == \"low\"][\"price\"].min()))\n",
    "white_wine_lq_max_price = float(\"{:.1f}\".format(white_wine_price_no[white_wine_price_no[\"rating\"] == \"low\"][\"price\"].max()))\n",
    "white_wine_mq_mean_price = float(\"{:.1f}\".format(white_wine_price_no[white_wine_price_no[\"rating\"] == \"medium\"][\"price\"].mean()))\n",
    "# wine_mq_median_price = wine_price_no[wine_price_no[\"rating\"] == \"medium\"][\"price\"].median()\n",
    "white_wine_mq_min_price = float(\"{:.1f}\".format(white_wine_price_no[white_wine_price_no[\"rating\"] == \"medium\"][\"price\"].min()))\n",
    "white_wine_mq_max_price = float(\"{:.1f}\".format(white_wine_price_no[white_wine_price_no[\"rating\"] == \"medium\"][\"price\"].max()))\n",
    "white_wine_hq_mean_price = float(\"{:.1f}\".format(white_wine_price_no[white_wine_price_no[\"rating\"] == \"high\"][\"price\"].mean()))\n",
    "# wine_hq_median_price = wine_price_no[wine_price_no[\"rating\"] == \"high\"][\"price\"].median()\n",
    "white_wine_hq_min_price = float(\"{:.1f}\".format(white_wine_price_no[white_wine_price_no[\"rating\"] == \"high\"][\"price\"].min()))\n",
    "white_wine_hq_max_price = float(\"{:.1f}\".format(white_wine_price_no[white_wine_price_no[\"rating\"] == \"high\"][\"price\"].max()))\n",
    "white_wine_price_quality = pd.DataFrame(np.array([[\"low\", white_wine_lq_mean_price, white_wine_lq_min_price, white_wine_lq_max_price], [\"medium\", white_wine_mq_mean_price, white_wine_mq_min_price, white_wine_mq_max_price], [\"high\", white_wine_hq_mean_price, white_wine_hq_min_price, white_wine_hq_max_price]]), columns=[\"quality\", \"mean_price\", \"min_price\", \"max_price\"])\n",
    "red_wine_points = np.array(red_wine_price_no[\"points\"])\n",
    "red_wine_price_no[\"rating\"] = pd.cut(red_wine_points,3, labels=[\"low\", \"medium\", \"high\"])\n",
    "red_wine_lq_mean_price = float(\"{:.1f}\".format(red_wine_price_no[red_wine_price_no[\"rating\"] == \"low\"][\"price\"].mean()))\n",
    "# wine_lq_median_price = wine_price_no[wine_price_no[\"rating\"] == \"low\"][\"price\"].median()\n",
    "red_wine_lq_min_price = float(\"{:.1f}\".format(red_wine_price_no[red_wine_price_no[\"rating\"] == \"low\"][\"price\"].min()))\n",
    "red_wine_lq_max_price = float(\"{:.1f}\".format(red_wine_price_no[red_wine_price_no[\"rating\"] == \"low\"][\"price\"].max()))\n",
    "red_wine_mq_mean_price = float(\"{:.1f}\".format(red_wine_price_no[red_wine_price_no[\"rating\"] == \"medium\"][\"price\"].mean()))\n",
    "# wine_mq_median_price = wine_price_no[wine_price_no[\"rating\"] == \"medium\"][\"price\"].median()\n",
    "red_wine_mq_min_price = float(\"{:.1f}\".format(red_wine_price_no[red_wine_price_no[\"rating\"] == \"medium\"][\"price\"].min()))\n",
    "red_wine_mq_max_price = float(\"{:.1f}\".format(red_wine_price_no[red_wine_price_no[\"rating\"] == \"medium\"][\"price\"].max()))\n",
    "red_wine_hq_mean_price = float(\"{:.1f}\".format(red_wine_price_no[red_wine_price_no[\"rating\"] == \"high\"][\"price\"].mean()))\n",
    "# wine_hq_median_price = wine_price_no[wine_price_no[\"rating\"] == \"high\"][\"price\"].median()\n",
    "red_wine_hq_min_price = float(\"{:.1f}\".format(red_wine_price_no[red_wine_price_no[\"rating\"] == \"high\"][\"price\"].min()))\n",
    "red_wine_hq_max_price = float(\"{:.1f}\".format(red_wine_price_no[red_wine_price_no[\"rating\"] == \"high\"][\"price\"].max()))\n",
    "red_wine_price_quality = pd.DataFrame(np.array([[\"low\", red_wine_lq_mean_price, red_wine_lq_min_price, red_wine_lq_max_price], [\"medium\", red_wine_mq_mean_price, red_wine_mq_min_price, red_wine_mq_max_price], [\"high\", red_wine_hq_mean_price, red_wine_hq_min_price, red_wine_hq_max_price]]), columns=[\"quality\", \"mean_price\", \"min_price\", \"max_price\"])\n",
    "# wine_price_quality_stats = pd.concat([white_wine_price_quality, red_wine_price_quality], axis= 1, keys=['White Wine Prices', 'Red Wine Prices'])\n",
    "# wine_price_quality_stats"
   ]
  },
  {
   "cell_type": "code",
   "execution_count": 28,
   "metadata": {},
   "outputs": [],
   "source": [
    "conditions = [\n",
    "    ((wines[\"wine_type\"] == \"white\") & (wines[\"quality_label\"] == \"low\")),\n",
    "    ((wines[\"wine_type\"] == \"white\") & (wines[\"quality_label\"] == \"medium\")),\n",
    "    ((wines[\"wine_type\"] == \"white\") & (wines[\"quality_label\"] == \"high\")),\n",
    "    ((wines[\"wine_type\"] == \"red\") & (wines[\"quality_label\"] == \"low\")),\n",
    "    ((wines[\"wine_type\"] == \"red\") & (wines[\"quality_label\"] == \"medium\")),\n",
    "    ((wines[\"wine_type\"] == \"red\") & (wines[\"quality_label\"] == \"high\")),\n",
    "]\n",
    "values = [float(white_wine_price_quality[white_wine_price_quality[\"quality\"] == \"low\"][\"mean_price\"][0]), float(white_wine_price_quality[white_wine_price_quality[\"quality\"] == \"medium\"][\"mean_price\"][1]), float(white_wine_price_quality[white_wine_price_quality[\"quality\"] == \"high\"][\"mean_price\"][2]), float(red_wine_price_quality[red_wine_price_quality[\"quality\"] == \"low\"][\"mean_price\"][0]), float(red_wine_price_quality[red_wine_price_quality[\"quality\"] == \"medium\"][\"mean_price\"][1]), float(red_wine_price_quality[red_wine_price_quality[\"quality\"] == \"high\"][\"mean_price\"][2])]\n",
    "\n",
    "wines[\"price\"] = np.select(conditions, values)\n"
   ]
  },
  {
   "cell_type": "code",
   "execution_count": 30,
   "metadata": {},
   "outputs": [
    {
     "output_type": "stream",
     "name": "stdout",
     "text": [
      "Counter({9.4: 2169, 8.7: 1134, 9.2: 579, 9.0: 525, 10.7: 128, 10.6: 12}) Counter({9.4: 909, 8.7: 506, 9.2: 258, 9.0: 219, 10.7: 52, 10.6: 6})\nFeatures: ['fixed acidity', 'volatile acidity', 'citric acid', 'residual sugar', 'chlorides', 'free sulfur dioxide', 'total sulfur dioxide', 'density', 'pH', 'sulphates', 'alcohol']\n"
     ]
    }
   ],
   "source": [
    "wpp_features = wines.drop(columns=[\"quality\", \"quality_label\", \"wine_type\", \"price\"], axis=1)\n",
    "wpp_class_labels = np.array(wines['price'])\n",
    "wpp_label_names = list(map(lambda x: str(x), wines['price'].unique()))\n",
    "wpp_feature_names = list(wpp_features.columns)\n",
    "wpp_categories = list(wpp_features.columns.values)\n",
    "wpp_train_X, wpp_test_X, wpp_train_y, wpp_test_y = train_test_split(wpp_features,\n",
    "wpp_class_labels, test_size=0.3, random_state=42)\n",
    "print(Counter(wpp_train_y), Counter(wpp_test_y))\n",
    "print('Features:', wpp_feature_names)"
   ]
  },
  {
   "cell_type": "code",
   "execution_count": 31,
   "metadata": {},
   "outputs": [],
   "source": [
    "# Define the scaler\n",
    "wpp_ss = StandardScaler().fit(wpp_train_X)\n",
    "# Scale the train set\n",
    "wpp_train_SX = wpp_ss.transform(wpp_train_X)\n",
    "# Scale the test set\n",
    "wpp_test_SX = wpp_ss.transform(wpp_test_X)\n",
    "lab_enc = preprocessing.LabelEncoder()\n",
    "wpp_train_y_encoded = lab_enc.fit_transform(wpp_train_y)\n",
    "wpp_test_y_encoded = lab_enc.fit_transform(wpp_test_y)"
   ]
  },
  {
   "cell_type": "code",
   "execution_count": 32,
   "metadata": {},
   "outputs": [
    {
     "output_type": "stream",
     "name": "stdout",
     "text": [
      "              precision    recall  f1-score   support\n\n         8.7       0.80      0.66      0.72       506\n         9.0       0.75      0.78      0.76       219\n         9.4       0.79      0.77      0.78       258\n         9.2       0.80      0.91      0.85       909\n        10.7       1.00      0.17      0.29         6\n        10.6       1.00      0.38      0.56        52\n\n    accuracy                           0.79      1950\n   macro avg       0.86      0.61      0.66      1950\nweighted avg       0.80      0.79      0.79      1950\n\naccuracy 0.7933333333333333\nkappa 0.690344346858464\n"
     ]
    }
   ],
   "source": [
    "wpp_rf = RandomForestClassifier(random_state=42, n_estimators=80, criterion=\"entropy\", bootstrap=True, max_depth=30, oob_score=True, min_samples_split=2, min_samples_leaf=1, max_leaf_nodes=800)\n",
    "wpp_rf.fit(wpp_train_SX, wpp_train_y_encoded)\n",
    "# predict and evaluate performance\n",
    "wpp_rf_predictions = wpp_rf.predict(wpp_test_SX)\n",
    "print(classification_report(wpp_test_y_encoded,wpp_rf_predictions, target_names=wpp_label_names))\n",
    "print(\"accuracy\", accuracy_score(wpp_test_y_encoded,wpp_rf_predictions))\n",
    "# wpp_confusion_matrix = confusion_matrix(wpp_test_y,wpp_rf_predictions)\n",
    "print(\"kappa\", cohen_kappa_score(wpp_test_y_encoded, wpp_rf_predictions))\n",
    "# print(wpp_confusion_matrix)\n",
    "# cm_display = ConfusionMatrixDisplay(wpp_confusion_matrix, display_labels=wpp_label_names).plot()"
   ]
  },
  {
   "cell_type": "code",
   "execution_count": 70,
   "metadata": {},
   "outputs": [
    {
     "output_type": "stream",
     "name": "stdout",
     "text": [
      "[2.53750000e-01 3.76250000e-01 7.50000000e-03 ... 1.25000000e-01\n 1.42108547e-14 1.06250000e-01]\nMean Absolute Error: 0.19 degrees.\nAccuracy: 97.95 %.\n"
     ]
    }
   ],
   "source": [
    "wpp_rf = RandomForestRegressor(random_state=42, n_estimators=80)\n",
    "wpp_rf.fit(wpp_train_SX, wpp_train_y)\n",
    "# predict and evaluate performance\n",
    "wpp_rf_predictions = wpp_rf.predict(wpp_test_SX)\n",
    "errors = abs(wpp_rf_predictions - wpp_test_y)\n",
    "print(errors)\n",
    "# Display the performance metrics\n",
    "print('Mean Absolute Error:', round(np.mean(errors), 2), 'degrees.')\n",
    "mape = np.mean(100 * (errors / wpp_test_y))\n",
    "accuracy = 100 - mape\n",
    "print('Accuracy:', round(accuracy, 2), '%.')\n",
    "# print(classification_report(wpp_test_y,wpp_rf_predictions, target_names=wpp_label_names))\n",
    "# print(\"accuracy\", accuracy_score(wpp_test_y,wpp_rf_predictions))\n",
    "# wpp_confusion_matrix = confusion_matrix(wpp_test_y,wpp_rf_predictions)\n",
    "# print(\"kappa\", cohen_kappa_score(wpp_test_y, wpp_rf_predictions))\n",
    "# print(wpp_confusion_matrix)\n",
    "# cm_display = ConfusionMatrixDisplay(wpp_confusion_matrix, display_labels=wpp_label_names).plot()\n",
    "# wpp_test_y_reshaped = wpp_test_y.reshape(-1, 1)\n",
    "# wpp_rf_predictions_reshaped = wpp_rf_predictions.reshape(-1, 1)\n",
    "# print(wpp_test_y.reshape(-1, 1))\n",
    "# print(wpp_rf_predictions.reshape(-1, 1))\n",
    "# print(wpp_rf.score(wpp_test_y, wpp_rf_predictions))"
   ]
  }
 ]
}