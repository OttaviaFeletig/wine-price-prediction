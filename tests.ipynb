{
 "metadata": {
  "language_info": {
   "codemirror_mode": {
    "name": "ipython",
    "version": 3
   },
   "file_extension": ".py",
   "mimetype": "text/x-python",
   "name": "python",
   "nbconvert_exporter": "python",
   "pygments_lexer": "ipython3",
   "version": "3.8.3-final"
  },
  "orig_nbformat": 2,
  "kernelspec": {
   "name": "python3",
   "display_name": "Python 3"
  }
 },
 "nbformat": 4,
 "nbformat_minor": 2,
 "cells": [
  {
   "cell_type": "code",
   "execution_count": 1,
   "metadata": {},
   "outputs": [],
   "source": [
    "from scipy import stats\n",
    "import pandas as pd\n",
    "import numpy as np \n",
    "import matplotlib.pyplot as plt "
   ]
  },
  {
   "cell_type": "code",
   "execution_count": 2,
   "metadata": {},
   "outputs": [],
   "source": [
    "# importing files\n",
    "red_wine = pd.read_csv(\n",
    "    'https://archive.ics.uci.edu/ml/machine-learning-databases/wine-quality/winequality-red.csv', sep=';')\n",
    "white_wine = pd.read_csv(\n",
    "    'https://archive.ics.uci.edu/ml/machine-learning-databases/wine-quality/winequality-white.csv', sep=';')"
   ]
  },
  {
   "cell_type": "code",
   "execution_count": 3,
   "metadata": {},
   "outputs": [],
   "source": [
    "# adding columns to dataframe\n",
    "red_wine['wine_type'] = 'red'\n",
    "red_wine['quality_label'] = red_wine['quality'].apply(lambda value: 'low'\n",
    "                                                      if value <= 5 else 'medium'\n",
    "                                                      if value <= 7 else 'high')\n",
    "red_wine['quality_label'] = pd.Categorical(red_wine['quality_label'],\n",
    "                                           categories=['low', 'medium', 'high'])\n",
    "red_wine[red_wine[\"quality\"] > 6]\n",
    "white_wine['wine_type'] = 'white'\n",
    "white_wine['quality_label'] = white_wine['quality'].apply(lambda value: 'low'\n",
    "                                                          if value <= 5 else 'medium'\n",
    "                                                          if value <= 7 else 'high')\n",
    "white_wine['quality_label'] = pd.Categorical(white_wine['quality_label'],\n",
    "                                             categories=['low', 'medium', 'high'])\n",
    "white_wine[white_wine[\"quality\"] > 6]\n",
    "\n",
    "# combine dataframes\n",
    "\n",
    "wines = pd.concat([red_wine, white_wine])\n",
    "# re-shuffle records just to randomize data points\n",
    "wines = wines.sample(frac=1, random_state=42).reset_index(drop=True)"
   ]
  },
  {
   "cell_type": "code",
   "execution_count": 6,
   "metadata": {},
   "outputs": [
    {
     "output_type": "stream",
     "name": "stdout",
     "text": [
      "ANOVA test for mean alcohol levels across wine samples with different quality ratings\nF Statistic: 673.0745347231032 \tp-value: 2.2715337450621843e-266\nAccepting Alternative Hypothesis\n"
     ]
    }
   ],
   "source": [
    "F, p = stats.f_oneway(wines[wines['quality_label'] == 'low']['alcohol'],\n",
    "wines[wines['quality_label'] == 'medium']['alcohol'],\n",
    "wines[wines['quality_label'] == 'high']['alcohol'])\n",
    "print('ANOVA test for mean alcohol levels across wine samples with different quality ratings')\n",
    "print('F Statistic:', F, '\\tp-value:', p)\n",
    "if p < 0.05:\n",
    "    print(\"Accepting Alternative Hypothesis\")\n",
    "else:\n",
    "    print(\"Accepting Null Hypothesis\")"
   ]
  },
  {
   "cell_type": "code",
   "execution_count": 7,
   "metadata": {},
   "outputs": [
    {
     "output_type": "stream",
     "name": "stdout",
     "text": [
      "ANOVA test for mean pH levels across wine samples with different quality ratings\nF Statistic: 1.2363860803545201 \tp-value: 0.2905002779768688\nAccepting Null Hypothesis\n"
     ]
    }
   ],
   "source": [
    "F, p = stats.f_oneway(wines[wines['quality_label'] == 'low']['pH'],\n",
    "wines[wines['quality_label'] == 'medium']['pH'],\n",
    "wines[wines['quality_label'] == 'high']['pH'])\n",
    "print('ANOVA test for mean pH levels across wine samples with different quality ratings')\n",
    "print('F Statistic:', F, '\\tp-value:', p)\n",
    "if p < 0.05:\n",
    "    print(\"Accepting Alternative Hypothesis\")\n",
    "else:\n",
    "    print(\"Accepting Null Hypothesis\")"
   ]
  },
  {
   "cell_type": "code",
   "execution_count": 8,
   "metadata": {},
   "outputs": [
    {
     "output_type": "stream",
     "name": "stdout",
     "text": [
      "ANOVA test for mean residual sugar levels across wine samples with different quality ratings\nF Statistic: 899.7662891248706 \tp-value: 2.959354152712964e-185\nAccepting Alternative Hypothesis\n"
     ]
    }
   ],
   "source": [
    "F, p = stats.f_oneway(wines[wines['wine_type'] == 'red']['residual sugar'],\n",
    "wines[wines['wine_type'] == 'white']['residual sugar'])\n",
    "print('ANOVA test for mean residual sugar levels across wine samples with different quality ratings')\n",
    "print('F Statistic:', F, '\\tp-value:', p)\n",
    "if p < 0.05:\n",
    "    print(\"Accepting Alternative Hypothesis\")\n",
    "else:\n",
    "    print(\"Accepting Null Hypothesis\")"
   ]
  }
 ]
}